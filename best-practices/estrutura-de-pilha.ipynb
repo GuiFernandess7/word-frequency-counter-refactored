{
 "cells": [
  {
   "cell_type": "code",
   "execution_count": null,
   "metadata": {},
   "outputs": [],
   "source": [
    "class Stack:\n",
    "    def __init__(self, size=8) -> None:\n",
    "        self.memory = [0] * size\n",
    "        self.top = -1\n",
    "\n",
    "    def is_empty(self):\n",
    "        return self.top == -1\n",
    "    \n",
    "    def push(self, value):\n",
    "        self.top += 1\n",
    "        self.memory[self.top] = value\n",
    "    \n",
    "    def pop(self):\n",
    "        value = self.memory[self.top]\n",
    "        self.top -= 1\n",
    "        return value"
   ]
  }
 ],
 "metadata": {
  "language_info": {
   "name": "python"
  }
 },
 "nbformat": 4,
 "nbformat_minor": 2
}
