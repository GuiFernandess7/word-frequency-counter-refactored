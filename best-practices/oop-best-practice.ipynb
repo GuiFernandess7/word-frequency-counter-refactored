{
 "cells": [
  {
   "cell_type": "code",
   "execution_count": 1,
   "metadata": {},
   "outputs": [],
   "source": [
    "## AVOID IF STATEMENT IN CONSTRUCTOR\n",
    "class MailingList:\n",
    "    def __init__(self, *iterable, filename=\"\") -> None:\n",
    "        if filename:\n",
    "            self.contacts = self.load(filename)\n",
    "        else:\n",
    "            self.contacts = [c for c in iterable]\n",
    "    \n",
    "    def load(self, json):\n",
    "        import json\n",
    "        with open(json) as f:\n",
    "            list_of_dicts = json.load(f)\n",
    "        \n",
    "        return [(d['name'], d['email']) for d in list_of_dicts]\n"
   ]
  },
  {
   "cell_type": "code",
   "execution_count": null,
   "metadata": {},
   "outputs": [],
   "source": [
    "## Best Way:\n",
    "### Inicializa a instancia com base no método de classe\n",
    "class MailingListB:\n",
    "    def __init__(self, *iterable) -> None:\n",
    "        self.contacts = [c for c in iterable]\n",
    "    \n",
    "    @classmethod\n",
    "    def from_json(cls, filename):\n",
    "        import json\n",
    "        with open(filename) as f:\n",
    "            list_of_dicts = json.load(f)\n",
    "\n",
    "        return cls(*((d['name'], d['email']) for d in list_of_dicts))\n",
    "    \n",
    "#MailingListB.from_json() "
   ]
  }
 ],
 "metadata": {
  "kernelspec": {
   "display_name": "Python 3",
   "language": "python",
   "name": "python3"
  },
  "language_info": {
   "codemirror_mode": {
    "name": "ipython",
    "version": 3
   },
   "file_extension": ".py",
   "mimetype": "text/x-python",
   "name": "python",
   "nbconvert_exporter": "python",
   "pygments_lexer": "ipython3",
   "version": "3.10.7"
  }
 },
 "nbformat": 4,
 "nbformat_minor": 2
}
