{
 "cells": [
  {
   "cell_type": "code",
   "execution_count": 7,
   "metadata": {},
   "outputs": [],
   "source": [
    "def donuts(n: int): \n",
    "    if n >= 10:\n",
    "        return f\"Number of donuts: many\"\n",
    "    return f\"Number of donuts: {n}\"\n",
    "\n",
    "def donuts2(n: int, message: str = \"many\"):\n",
    "    response = f\"Number of donuts: \"\n",
    "    if n < 10:\n",
    "        response += str(n)\n",
    "        return response\n",
    "    response = response + message\n",
    "    return response \n",
    "\n",
    "def donuts3(n: int, limit: int = 10):\n",
    "    if not isinstance(n, int):\n",
    "        raise ValueError(\"Erro de tipo\")\n",
    "    if n >= limit:\n",
    "        msg = \"many\"\n",
    "    else:\n",
    "        msg = str(n)\n",
    "    return f\"Number of donuts: {msg}\""
   ]
  },
  {
   "cell_type": "code",
   "execution_count": 10,
   "metadata": {},
   "outputs": [],
   "source": [
    "def test_donuts():\n",
    "    assert (donuts(5) == f\"Number of donuts: {5}\")\n",
    "    assert (donuts(11) == f\"Number of donuts: {11}\")\n",
    "\n",
    "test_donuts()"
   ]
  },
  {
   "cell_type": "code",
   "execution_count": 15,
   "metadata": {},
   "outputs": [],
   "source": [
    "## WITH OOP\n",
    "class Quantity:\n",
    "    def __init__(self, count, limit: int = 10) -> None:\n",
    "        self.count = count\n",
    "        self.limit = limit\n",
    "\n",
    "    @property\n",
    "    def many(self):\n",
    "        return self.count >= self.limit\n",
    "    \n",
    "    def __str__(self):\n",
    "        return 'many' if self.many else str(self.count)\n",
    "    \n",
    "def donuts4(n: int, limit: int = 10):\n",
    "   return f\"Number of donuts: {str(Quantity(n))}\"\n",
    "\n",
    "def test_qty():\n",
    "    assert Quantity(9)\n",
    "    assert str(Quantity(9)) == '9'\n",
    "    assert str(Quantity(10)) == \"many\"\n",
    "\n",
    "test_qty()"
   ]
  }
 ],
 "metadata": {
  "kernelspec": {
   "display_name": "Python 3",
   "language": "python",
   "name": "python3"
  },
  "language_info": {
   "codemirror_mode": {
    "name": "ipython",
    "version": 3
   },
   "file_extension": ".py",
   "mimetype": "text/x-python",
   "name": "python",
   "nbconvert_exporter": "python",
   "pygments_lexer": "ipython3",
   "version": "3.10.7"
  }
 },
 "nbformat": 4,
 "nbformat_minor": 2
}
